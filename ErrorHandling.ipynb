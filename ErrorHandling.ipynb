{
 "cells": [
  {
   "cell_type": "code",
   "execution_count": null,
   "metadata": {},
   "outputs": [],
   "source": [
    "## Convert Birth Years to Integers\n",
    "birth_years = []\n",
    "parts = []\n",
    "year = 0\n",
    "for items in legislators:\n",
    "    parts = items[2].split(\"-\")\n",
    "    try:\n",
    "        year = int(parts[0])\n",
    "    except Exception:\n",
    "        pass\n",
    "    if parts[0]==\"\":\n",
    "        year=0\n",
    "    birth_years.append(year)\n",
    "    items.append(year)"
   ]
  }
 ],
 "metadata": {
  "kernelspec": {
   "display_name": "Python 3",
   "language": "python",
   "name": "python3"
  },
  "language_info": {
   "codemirror_mode": {
    "name": "ipython",
    "version": 3
   },
   "file_extension": ".py",
   "mimetype": "text/x-python",
   "name": "python",
   "nbconvert_exporter": "python",
   "pygments_lexer": "ipython3",
   "version": "3.6.2"
  }
 },
 "nbformat": 4,
 "nbformat_minor": 2
}
