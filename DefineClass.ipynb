{
 "cells": [
  {
   "cell_type": "code",
   "execution_count": null,
   "metadata": {},
   "outputs": [],
   "source": [
    "import csv\n",
    "class Team():\n",
    "    def __init__(self, name):\n",
    "        self.name = name\n",
    "        f = open(\"nfl.csv\", 'r')\n",
    "        csvreader = csv.reader(f)\n",
    "        self.nfl = list(csvreader)\n",
    "\n",
    "    def count_total_wins(self):\n",
    "        count = 0\n",
    "        for row in self.nfl:\n",
    "            if row[2] == self.name:\n",
    "                count = count + 1\n",
    "        return count\n",
    "\n",
    "jaguars = Team(\"Jacksonville Jaguars\")\n",
    "jaguars_wins = jaguars.count_total_wins()"
   ]
  }
 ],
 "metadata": {
  "kernelspec": {
   "display_name": "Python 3",
   "language": "python",
   "name": "python3"
  },
  "language_info": {
   "codemirror_mode": {
    "name": "ipython",
    "version": 3
   },
   "file_extension": ".py",
   "mimetype": "text/x-python",
   "name": "python",
   "nbconvert_exporter": "python",
   "pygments_lexer": "ipython3",
   "version": "3.6.2"
  }
 },
 "nbformat": 4,
 "nbformat_minor": 2
}
