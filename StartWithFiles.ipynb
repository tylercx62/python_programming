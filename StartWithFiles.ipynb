{
 "cells": [
  {
   "cell_type": "markdown",
   "metadata": {},
   "source": [
    "## 0. Define own data/testing"
   ]
  },
  {
   "cell_type": "code",
   "execution_count": 6,
   "metadata": {},
   "outputs": [],
   "source": [
    "X = [[181, 80, 44], [177, 70, 43], [160, 60, 38]]\n",
    "Y = ['male', 'male', 'female']"
   ]
  },
  {
   "cell_type": "markdown",
   "metadata": {},
   "source": [
    "## 1. Read/Write Local File\n",
    "### 1.1 CSV\n",
    "#### 1.1.1 CSV lib\n",
    "#### Example 1"
   ]
  },
  {
   "cell_type": "code",
   "execution_count": null,
   "metadata": {},
   "outputs": [],
   "source": [
    "dates = []\n",
    "prices = []\n",
    "def get_data(filename):\n",
    "    with open(filename, 'r') as csvfile:\n",
    "        csvFileReader = csv.reader(csvfile)\n",
    "        next(csvFileReader)\t# skipping column names\n",
    "        for row in csvFileReader:\n",
    "            dates.append(int(row[0].split('/')[0]))\n",
    "            prices.append(float(row[1]))\n",
    "    return\n",
    "get_data('appleStock.csv') # calling get_data method by passing the csv file to it"
   ]
  },
  {
   "cell_type": "markdown",
   "metadata": {},
   "source": [
    "#### Example 2"
   ]
  },
  {
   "cell_type": "code",
   "execution_count": null,
   "metadata": {},
   "outputs": [],
   "source": [
    "import csv\n",
    "f = open(\"nfl.csv\", \"r\")\n",
    "# Use the csv module to read the file, and convert the result to a list\n",
    "nfl = list(csv.reader(f))"
   ]
  },
  {
   "cell_type": "markdown",
   "metadata": {},
   "source": [
    "#### 1.1.2 Panda"
   ]
  },
  {
   "cell_type": "code",
   "execution_count": null,
   "metadata": {},
   "outputs": [],
   "source": [
    "# read/shuffle(label)/sort/split train/test\n",
    "from sklearn.cross_validation import train_test_split\n",
    "#help analyse our data\n",
    "import pandas as pd \n",
    "#perform math calculation\n",
    "import numpy as np\n",
    "#load the data\n",
    "telescope=pd.read_csv('MAGIC Gamma Telescope Data.csv')\n",
    "#clean the data\n",
    "#since the class object is already organized, we'll shuffle our data to get a better result\n",
    "# the iloc() function of the telescope variable is pandas's way of getting the positions in the index.\n",
    "# and we'll generate a sequence of random indices the size of our data using the permutation function of numpy's 'random' submodule.\n",
    "telescope_shuffle=telescope.iloc[np.random.permutation(len(telescope))]\n",
    "# since all the instances are now randomly rearranged, we'll just reset all these indices so thet are ordered ven though the data is now shuffled using the reset_index()\n",
    "tele=telescope_shuffle.reset_index(drop=True)\n",
    "\n",
    "#Store 2 classes\n",
    "# now let the tele variable know what our two classes are by mapping both of them to an integer with the map()\n",
    "# Change label 'g' 'h' to numeric '0' '1'\n",
    "tele['Class']=tele['Class'].map({'g':0, 'h':1})\n",
    "# store those class labels which we're going to predict\n",
    "# using .values to retrieve them\n",
    "tele_class = tele['Class'].values\n",
    "\n",
    "#Split training, testing, and validation data\n",
    "#train_test_split() to create indices for both\n",
    "# we want our dataset to be arrays so we set the stratify= tele_class\n",
    "# define what percentage of our data to be training anf testing\n",
    "training_indices, validation_indices = training_indices, testing_indices = train_test_split(tele.index,\n",
    "    stratify= tele_class, train_size=0.75, test_size=0.25)"
   ]
  },
  {
   "cell_type": "markdown",
   "metadata": {},
   "source": [
    "### 1.2 TXT"
   ]
  },
  {
   "cell_type": "code",
   "execution_count": null,
   "metadata": {},
   "outputs": [],
   "source": [
    "f = open(\"story.txt\", 'r')\n",
    "story_string = f.read()"
   ]
  },
  {
   "cell_type": "markdown",
   "metadata": {},
   "source": [
    "### 1.3 Image"
   ]
  },
  {
   "cell_type": "code",
   "execution_count": null,
   "metadata": {},
   "outputs": [],
   "source": [
    "#open image\n",
    "import PIL.Image #helps us modify our images\n",
    "img0 = PIL.Image.open('2.jpg')\n",
    "# format it accordingly using numpy\n",
    "img0 = np.float32(img0)"
   ]
  },
  {
   "cell_type": "markdown",
   "metadata": {},
   "source": [
    "## 2. Download from url"
   ]
  },
  {
   "cell_type": "code",
   "execution_count": null,
   "metadata": {},
   "outputs": [],
   "source": [
    "#operate sysyem-dependent functionality\n",
    "import os\n",
    "#unzip files\n",
    "import zipfile\n",
    "def main():\n",
    "    #Step 1 - download google's pre-trained neural network\n",
    "    url = 'https://storage.googleapis.com/download.tensorflow.org/models/inception5h.zip'\n",
    "    data_dir = '../data/'\n",
    "    model_name = os.path.split(url)[-1]\n",
    "\n",
    "    print (model_name) #inception5h.zip\n",
    "    #local_zip_file = os.path.join(data_dir, model_name)\n",
    "    #local_zip_file = \"./data/inception5h.zip\" # in same folder as the main.py\n",
    "    local_zip_file = \"../data/inception5h.zip\" # upper folder from the main.py. So same level as python folder\n",
    "    print (local_zip_file) #../data/inception5h.zip\n",
    "\n",
    "    print (os.path.exists(local_zip_file))\n",
    "    if not os.path.exists(local_zip_file):\n",
    "    \tprint (\"Not exists\")\n",
    "\n",
    "    if os.path.exists(local_zip_file):\n",
    "    \tprint (\"exists!\")\n",
    "    #sys.exit(0)\n",
    "    '''\n",
    "    if not os.path.exists(local_zip_file):\n",
    "        # Download\n",
    "        model_url = urllib.request.urlopen(url)\n",
    "        with open(local_zip_file, 'wb') as output:\n",
    "            output.write(model_url.read())\n",
    "        # Extract\n",
    "        with zipfile.ZipFile(local_zip_file, 'r') as zip_ref:\n",
    "            zip_ref.extractall(data_dir)\n",
    "  \t'''\n",
    "if __name__ == '__main__':\n",
    "    main()"
   ]
  }
 ],
 "metadata": {
  "kernelspec": {
   "display_name": "Python 3",
   "language": "python",
   "name": "python3"
  },
  "language_info": {
   "codemirror_mode": {
    "name": "ipython",
    "version": 3
   },
   "file_extension": ".py",
   "mimetype": "text/x-python",
   "name": "python",
   "nbconvert_exporter": "python",
   "pygments_lexer": "ipython3",
   "version": "3.6.2"
  }
 },
 "nbformat": 4,
 "nbformat_minor": 2
}
