{
 "cells": [
  {
   "cell_type": "markdown",
   "metadata": {},
   "source": [
    "# Exploring the Dataset\n",
    "## 1. List and NumPy\n",
    "### 1.1 Dimension Control"
   ]
  },
  {
   "cell_type": "code",
   "execution_count": null,
   "metadata": {},
   "outputs": [],
   "source": [
    "# Creating arrays\n",
    "vector = numpy.array([10, 20, 30])\n",
    "matrix = numpy.array([[5, 10, 15], [20, 25, 30], [35, 40, 45]])\n",
    "matrix_shape = matrix.shape\n",
    "\n",
    "## Retrieve row/column(number of users and movies) in List\n",
    "n_users, n_items = np.array(data).shape\n",
    "# Data types\n",
    "world_alcohol_dtype = world_alcohol.dtype\n",
    "# Indexing arrays \n",
    "uruguay_other_1986 = world_alcohol[1,4]\n",
    "# Slicing arrays\n",
    "countries = world_alcohol[:,2]\n",
    "# Slicing one dimension\n",
    "first_two_columns = world_alcohol[:,0:2]\n",
    "# Slicing arrays\n",
    "first_twenty_regions = world_alcohol[0:20,1:3]\n",
    "\n",
    "## Fixing format before fitting in a classifier\n",
    "#from [x,x,x] format to [[x][x][x]] bc it needs [] to cover multip dimensions\n",
    "dates = np.reshape(dates,(len(dates), 1)) # converting to matrix of n X 1"
   ]
  },
  {
   "cell_type": "markdown",
   "metadata": {},
   "source": [
    "### 1.2 Element Control"
   ]
  },
  {
   "cell_type": "code",
   "execution_count": null,
   "metadata": {},
   "outputs": [],
   "source": [
    "## Retrieve element in List (1by1, slow)\n",
    "for tweet in public_tweets:\n",
    "    print(tweet)\n",
    "\n",
    "## Top3 element in vector\n",
    "for x in top_items[:3]:\n",
    "            print(\"        %s\" % x)\n",
    "\n",
    "## We can split a string into a list.\n",
    "sample = \"john,plastic,joe\"\n",
    "split_list = sample.split(\",\")\n",
    "print(split_list)   #['john', 'plastic', 'joe']\n",
    "\n",
    "#Here's another example.\n",
    "string_two = \"How much wood\\ncan a woodchuck chuck\\nif a woodchuck\\ncould chuck wood?\"\n",
    "split_string_two = string_two.split('\\n')\n",
    "print(split_string_two)\n",
    "\n",
    "# Retrieve specific words\n",
    "for row in csvFileReader:\n",
    "    dates.append(int(row[0].split('/')[0]))\n",
    "\n",
    "## Replacing Special Characters\n",
    "f = open(\"story.txt\", 'r')\n",
    "story_string = f.read()\n",
    "clean_chars = [\",\", \".\", \"'\", \";\", \"\\n\"]\n",
    "def clean_text(text_string, special_characters):\n",
    "    cleaned_string = text_string\n",
    "    for string in special_characters:\n",
    "        cleaned_string = cleaned_string.replace(string, \"\")\n",
    "    cleaned_string = cleaned_string.lower() #all case-based characters have been lowercased.\n",
    "    return(cleaned_string)\n",
    "cleaned_story = clean_text(story_string, clean_chars)\n",
    "\n",
    "## The In Statement ##\n",
    "animals = [\"cat\", \"dog\", \"rabbit\", \"horse\", \"giant_horrible_monster\"]\n",
    "cat_found = \"cat\" in animals  #True"
   ]
  },
  {
   "cell_type": "markdown",
   "metadata": {},
   "source": [
    "### 1.3 Dictionary"
   ]
  },
  {
   "cell_type": "code",
   "execution_count": null,
   "metadata": {},
   "outputs": [],
   "source": [
    "## The In Statement and Dictionaries ##\n",
    "planet_numbers = {\"mercury\": 1, \"venus\": 2, \"earth\": 3, \"mars\": 4}\n",
    "jupiter_found = \"jupiter\" in planet_numbers #false\n",
    "earth_found = \"earth\" in planet_numbers #true\n",
    "\n",
    "## Counting with Dictionaries/Key count\n",
    "pantry = [\"apple\", \"orange\", \"grape\", \"apple\", \"orange\", \"apple\", \"tomato\", \"potato\", \"grape\"]\n",
    "pantry_counts = {}\n",
    "for item in pantry:\n",
    "    if item in pantry_counts:\n",
    "        pantry_counts[item] = pantry_counts[item] + 1  #k exits, just add up v\n",
    "    else:\n",
    "        pantry_counts[item] = 1 #initiate a k-v\n",
    "\n",
    "## Finding with conditions\n",
    "top_male_names = []\n",
    "male_name_counts = {}\n",
    "for row in legislators:\n",
    "    if row[3] == 'M' and row[7]>1940:\n",
    "        if row[1] in male_name_counts:\n",
    "            male_name_counts[row[1]] = male_name_counts[row[1]] + 1\n",
    "        else:\n",
    "            male_name_counts[row[1]] = 1\n",
    "\n",
    "## Counting Simple Matches in the Data Set with re()\n",
    "import re        \n",
    "of_reddit_count = 0\n",
    "for row in posts:\n",
    "    if re.search(\"of [Rr]eddit\", row[0]) is not None:\n",
    "        of_reddit_count += 1"
   ]
  },
  {
   "cell_type": "markdown",
   "metadata": {},
   "source": [
    "### 1.4 Sort"
   ]
  },
  {
   "cell_type": "code",
   "execution_count": null,
   "metadata": {},
   "outputs": [],
   "source": [
    "## Returns the indices that would sort an array.\n",
    "x = np.array([2,4,1])\n",
    "np.argsort(x)   #array([2, 0, 1])\n",
    "np.argsort(-x)  #array([1, 0, 2])\n",
    "## Return evenly spaced values within a given interval.\n",
    "np.arange(3) #array([0, 1, 2])\n",
    "np.arange(3,7) #array([3, 4, 5, 6])\n",
    "np.arange(3,7,2) #array([3, 5])"
   ]
  },
  {
   "cell_type": "markdown",
   "metadata": {},
   "source": [
    "## 2. List and Panda\n",
    "### 2.1 Dimension Control"
   ]
  },
  {
   "cell_type": "code",
   "execution_count": null,
   "metadata": {},
   "outputs": [],
   "source": [
    "# Exploring the DataFrame\n",
    "print(food_info.head(3))\n",
    "dimensions = food_info.shape\n",
    "print(dimensions)\n",
    "num_rows = dimensions[0]\n",
    "print(num_rows)\n",
    "num_cols = dimensions[1]\n",
    "print(num_cols)\n",
    "# Data types\n",
    "print(food_info.dtypes)\n",
    "# Selecting a row\n",
    "hundredth_row = food_info.loc[99]\n",
    "# print(\"Rows 3, 4, 5 and 6\")\n",
    "print(food_info.loc[3:6])\n",
    "# print(\"Rows 2, 5, and 10\")\n",
    "two_five_ten = food_info.loc[2,5,10]\n",
    "# last row\n",
    "last_row = fandango.shape[0] - 1\n",
    "first_last = fandango.iloc[[first_row, last_row]]\n",
    "# Selecting individual columns\n",
    "ndb_col = food_info[\"NDB_No\"]\n",
    "# Selecting multiple columns by name\n",
    "zinc_copper = food_info[[\"Zinc_(mg)\", \"Copper_(mg)\"]]\n",
    "# Apply() Logic Over Columns\n",
    "double_df = float_df.apply(lambda x: x*2)\n",
    "print(double_df.head(1))\n",
    "# Apply() Over Dataframe Rows\n",
    "rt_mt_user = float_df[['RT_user_norm', 'Metacritic_user_nom']]\n",
    "rt_mt_means = rt_mt_user.apply(lambda x: np.mean(x), axis=1)\n",
    "print(rt_mt_means[0:5])"
   ]
  },
  {
   "cell_type": "markdown",
   "metadata": {},
   "source": [
    "### 2.2 Element/Dictionary Control"
   ]
  },
  {
   "cell_type": "code",
   "execution_count": null,
   "metadata": {},
   "outputs": [],
   "source": [
    "# Data Manipulation with pd\n",
    "import pandas\n",
    "food_info = pandas.read_csv(\"food_info.csv\")\n",
    "col_names = food_info.columns.tolist()\n",
    "print(col_names)\n",
    "print(food_info.head(3))\n",
    "water_energy = food_info[\"Water_(g)\"] * food_info[\"Energ_Kcal\"]\n",
    "print(water_energy[0:5])\n",
    "\n",
    "# Normalizing Columns\n",
    "max_protein = food_info[\"Protein_(g)\"].max()\n",
    "normalized_protein = food_info[\"Protein_(g)\"] / food_info[\"Protein_(g)\"].max()\n",
    "\n",
    "## Creating a New Column ##\n",
    "food_info[\"Normalized_Protein\"] = normalized_protein"
   ]
  },
  {
   "cell_type": "code",
   "execution_count": null,
   "metadata": {},
   "outputs": [],
   "source": [
    "# Counting k with panda\n",
    "import pandas as pd\n",
    "all_ages = pd.read_csv(\"all-ages.csv\")\n",
    "print(all_ages.head(5)) # print first 5\n",
    "#Unique values in Major_category column.\n",
    "print(all_ages['Major_category'].unique())\n",
    "\n",
    "aa_cat_counts = dict()\n",
    "rg_cat_counts = dict()\n",
    "def calculate_major_cat_totals(df):\n",
    "    cats = df['Major_category'].unique()\n",
    "    counts_dictionary = dict()\n",
    "\n",
    "    for c in cats:\n",
    "        major_df = df[df[\"Major_category\"] == c]\n",
    "        total = major_df[\"Total\"].sum()\n",
    "        counts_dictionary[c] = total\n",
    "    return counts_dictionary\n",
    "\n",
    "aa_cat_counts = calculate_major_cat_totals(all_ages)"
   ]
  },
  {
   "cell_type": "markdown",
   "metadata": {},
   "source": [
    "### 2.3 Indexing/Sorting"
   ]
  },
  {
   "cell_type": "code",
   "execution_count": null,
   "metadata": {},
   "outputs": [],
   "source": [
    "## Custom Indexes \n",
    "# Import the Series object from pandas\n",
    "from pandas import Series\n",
    "film_names = series_film.values\n",
    "rt_scores = series_rt.values\n",
    "series_custom = Series(rt_scores , index=film_names)\n",
    "series_custom[['Minions (2015)', 'Leviathan (2014)']]\n",
    "# Reindexing \n",
    "original_index = series_custom.index.tolist()\n",
    "sorted_index = sorted(original_index)\n",
    "sorted_by_index = series_custom.reindex(sorted_index)\n",
    "# Sorting \n",
    "sc2 = series_custom.sort_index()\n",
    "sc3 = series_custom.sort_values()\n",
    "# Alignment\n",
    "rt_critics = Series(fandango['RottenTomatoes'].values, index=fandango['FILM'])\n",
    "rt_users = Series(fandango['RottenTomatoes_User'].values, index=fandango['FILM'])\n",
    "rt_mean = (rt_critics + rt_users)/2"
   ]
  },
  {
   "cell_type": "code",
   "execution_count": null,
   "metadata": {},
   "outputs": [],
   "source": [
    "## Sorting a DataFrame by a Column\n",
    "food_info.sort_values(\"Norm_Nutr_Index\", inplace=True, ascending=False)"
   ]
  }
 ],
 "metadata": {
  "kernelspec": {
   "display_name": "Python 3",
   "language": "python",
   "name": "python3"
  },
  "language_info": {
   "codemirror_mode": {
    "name": "ipython",
    "version": 3
   },
   "file_extension": ".py",
   "mimetype": "text/x-python",
   "name": "python",
   "nbconvert_exporter": "python",
   "pygments_lexer": "ipython3",
   "version": "3.6.2"
  }
 },
 "nbformat": 4,
 "nbformat_minor": 2
}
